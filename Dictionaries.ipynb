{
 "cells": [
  {
   "cell_type": "markdown",
   "id": "7a28a8be-466c-4c84-9f68-c777eab0f445",
   "metadata": {},
   "source": [
    "## Dictionary in Python\n",
    "\n",
    "Dictionaries are used to store data values in key:value pairs\n",
    "\n",
    "They are unordered, mutable(changeable) & don’t allow duplicate keys"
   ]
  },
  {
   "cell_type": "code",
   "execution_count": 5,
   "id": "3d08d4bc-1931-439c-af8f-0487a36f9a75",
   "metadata": {},
   "outputs": [
    {
     "data": {
      "text/plain": [
       "{'name': 'siddharth',\n",
       " 'subjects': ['python', 'C', 'Java'],\n",
       " 'topics': ('dict', 'set'),\n",
       " 'age': 35,\n",
       " 'is_adult': True,\n",
       " 12.99: 94.4}"
      ]
     },
     "execution_count": 5,
     "metadata": {},
     "output_type": "execute_result"
    }
   ],
   "source": [
    "#Example\n",
    "info = {\n",
    "    \"name\" : \"siddharth\",\n",
    "    \"subjects\" : [\"python\", \"C\", \"Java\"],\n",
    "    \"topics\" : (\"dict\", \"set\"),\n",
    "    \"age\" :35,\n",
    "    \"is_adult\" : True,\n",
    "    12.99  : 94.4\n",
    "}\n",
    "\n",
    "info\n"
   ]
  },
  {
   "cell_type": "markdown",
   "id": "6a6ec6ef-061c-4ae8-9feb-a92e3a18bb43",
   "metadata": {},
   "source": [
    "### Null Dictionary"
   ]
  },
  {
   "cell_type": "code",
   "execution_count": 6,
   "id": "f82ac07e-939b-4d82-bb35-5eca4d66190c",
   "metadata": {},
   "outputs": [
    {
     "name": "stdout",
     "output_type": "stream",
     "text": [
      "{'name': 'apnacollege'}\n"
     ]
    }
   ],
   "source": [
    "null_dict = {}\n",
    "null_dict[\"name\"] = \"apnacollege\"\n",
    "print(null_dict)"
   ]
  },
  {
   "cell_type": "markdown",
   "id": "7df619df-aecb-4505-8313-7d0180aa5bbf",
   "metadata": {},
   "source": [
    "### Nested Dictionary"
   ]
  },
  {
   "cell_type": "code",
   "execution_count": 11,
   "id": "0f80b024-db22-4f36-99af-6995839b400b",
   "metadata": {},
   "outputs": [
    {
     "name": "stdout",
     "output_type": "stream",
     "text": [
      "{'phy': 97, 'chem': 98, 'math': 95}\n",
      "98\n"
     ]
    }
   ],
   "source": [
    "student = {\n",
    "    \"name\" : \"rahul kumar\",\n",
    "    \"subjects\" : {\n",
    "        \"phy\" : 97,\n",
    "        \"chem\" : 98,\n",
    "        \"math\" : 95\n",
    "    }\n",
    "}\n",
    "\n",
    "#nested dictionary\n",
    "\n",
    "print(student[\"subjects\"])\n",
    "print(student[\"subjects\"][\"chem\"])"
   ]
  },
  {
   "cell_type": "markdown",
   "id": "88b160ab-1661-402f-b62d-67e59e8d1b9b",
   "metadata": {},
   "source": [
    "### Dictionary Methods"
   ]
  },
  {
   "cell_type": "code",
   "execution_count": 14,
   "id": "59734d15-842f-4385-ac4c-406cae59beca",
   "metadata": {},
   "outputs": [
    {
     "name": "stdout",
     "output_type": "stream",
     "text": [
      "dict_keys(['name', 'subjects'])\n"
     ]
    }
   ],
   "source": [
    "print(student.keys())"
   ]
  },
  {
   "cell_type": "code",
   "execution_count": 13,
   "id": "b43f40ec-3964-43d1-87d7-b482763e9fe7",
   "metadata": {},
   "outputs": [
    {
     "name": "stdout",
     "output_type": "stream",
     "text": [
      "2\n"
     ]
    }
   ],
   "source": [
    "print(len(student))"
   ]
  },
  {
   "cell_type": "code",
   "execution_count": 15,
   "id": "5acdebcf-ea00-4929-9e19-bc80babeb5be",
   "metadata": {},
   "outputs": [
    {
     "name": "stdout",
     "output_type": "stream",
     "text": [
      "dict_values(['rahul kumar', {'phy': 97, 'chem': 98, 'math': 95}])\n"
     ]
    }
   ],
   "source": [
    "print(student.values())"
   ]
  },
  {
   "cell_type": "code",
   "execution_count": 16,
   "id": "1409b465-c894-4804-853c-a1e2f01a3d88",
   "metadata": {},
   "outputs": [
    {
     "name": "stdout",
     "output_type": "stream",
     "text": [
      "dict_items([('name', 'rahul kumar'), ('subjects', {'phy': 97, 'chem': 98, 'math': 95})])\n"
     ]
    }
   ],
   "source": [
    "print(student.items())"
   ]
  },
  {
   "cell_type": "code",
   "execution_count": 20,
   "id": "3e5b8c14-0a72-43ca-a823-fa17427f25b3",
   "metadata": {},
   "outputs": [
    {
     "name": "stdout",
     "output_type": "stream",
     "text": [
      "None\n"
     ]
    }
   ],
   "source": [
    "# print(student['name2']) # error\n",
    "print(student.get('name2')) #no error -> None  "
   ]
  },
  {
   "cell_type": "code",
   "execution_count": 25,
   "id": "932512b8-3619-4bf3-9f27-b7df3a657509",
   "metadata": {},
   "outputs": [
    {
     "name": "stdout",
     "output_type": "stream",
     "text": [
      "{'name': 'rahul kumar', 'subjects': {'phy': 97, 'chem': 98, 'math': 95}, 'city': 'delhi'}\n"
     ]
    }
   ],
   "source": [
    "new_dict = {\"city\" : \"delhi\"}\n",
    "student.update({\"city\": \"delhi\"})\n",
    "print(student)"
   ]
  },
  {
   "cell_type": "code",
   "execution_count": null,
   "id": "ed2e0451-c9e2-4969-9e3d-93109fc2ba63",
   "metadata": {},
   "outputs": [],
   "source": []
  }
 ],
 "metadata": {
  "kernelspec": {
   "display_name": "anaconda-ai-2024.04-py310",
   "language": "python",
   "name": "conda-env-anaconda-ai-2024.04-py310-py"
  },
  "language_info": {
   "codemirror_mode": {
    "name": "ipython",
    "version": 3
   },
   "file_extension": ".py",
   "mimetype": "text/x-python",
   "name": "python",
   "nbconvert_exporter": "python",
   "pygments_lexer": "ipython3",
   "version": "3.10.13"
  }
 },
 "nbformat": 4,
 "nbformat_minor": 5
}
