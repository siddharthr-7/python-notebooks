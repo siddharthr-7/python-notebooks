{
 "cells": [
  {
   "cell_type": "markdown",
   "id": "1c5fdf20-fa26-41ce-a28b-1b820046c5c9",
   "metadata": {},
   "source": [
    "## What is a Generator\n",
    "#### Python generators are a simple way of creating iterators. \n",
    "#### It is like function but with yield [ not return ]. When you call the generator --> It gives generator object. \n",
    "#### Then it will print iterator using \"next\"."
   ]
  },
  {
   "cell_type": "markdown",
   "id": "6dc07d88-6e70-4993-abf1-bb09e15eb8cc",
   "metadata": {},
   "source": [
    "## Example"
   ]
  },
  {
   "cell_type": "code",
   "execution_count": 1,
   "id": "9b44f6ec-46c2-448f-8081-42b415f5eec7",
   "metadata": {},
   "outputs": [],
   "source": [
    "def gen_demo():\n",
    "\n",
    "    yield \"first statement\"\n",
    "    yield \"second statement\"\n",
    "    yield \"third statement\""
   ]
  },
  {
   "cell_type": "code",
   "execution_count": 2,
   "id": "a763caf6-05ed-4691-b499-a158da7a863d",
   "metadata": {},
   "outputs": [
    {
     "name": "stdout",
     "output_type": "stream",
     "text": [
      "first statement\n",
      "second statement\n",
      "third statement\n"
     ]
    }
   ],
   "source": [
    "gen = gen_demo()\n",
    "print(next(gen))\n",
    "print(next(gen))\n",
    "print(next(gen))\n",
    "\n",
    "#for i in gen:\n",
    "    # print(i)"
   ]
  },
  {
   "cell_type": "code",
   "execution_count": 3,
   "id": "6b2bf4f4-d432-424b-bb82-c40695c494c9",
   "metadata": {},
   "outputs": [],
   "source": [
    "def square(num):\n",
    "    for i in range(1, num+1):\n",
    "        yield i**2"
   ]
  },
  {
   "cell_type": "code",
   "execution_count": 4,
   "id": "42c7aed9-4c3f-4ec0-9d6c-cad3394467fb",
   "metadata": {},
   "outputs": [
    {
     "name": "stdout",
     "output_type": "stream",
     "text": [
      "1\n",
      "4\n",
      "9\n",
      "16\n",
      "25\n",
      "36\n",
      "49\n",
      "64\n",
      "81\n",
      "100\n"
     ]
    }
   ],
   "source": [
    "gen = square(10)\n",
    "print(next(gen))\n",
    "print(next(gen))\n",
    "print(next(gen))\n",
    "\n",
    "for i in gen:\n",
    "    print(i)"
   ]
  },
  {
   "cell_type": "markdown",
   "id": "9c3e6079-5d2b-4d51-877b-b931939755b4",
   "metadata": {},
   "source": [
    "## Range Function using Generator"
   ]
  },
  {
   "cell_type": "code",
   "execution_count": 5,
   "id": "888bffc7-dcc5-4494-bfd4-d726773da9d0",
   "metadata": {},
   "outputs": [],
   "source": [
    "def my_range(start,end):\n",
    "    for i in range(start,end):\n",
    "        yield i"
   ]
  },
  {
   "cell_type": "code",
   "execution_count": 6,
   "id": "c8088abe-f966-44a9-9d9c-81aaa619e515",
   "metadata": {},
   "outputs": [
    {
     "name": "stdout",
     "output_type": "stream",
     "text": [
      "15\n",
      "16\n",
      "17\n",
      "18\n",
      "19\n",
      "20\n",
      "21\n",
      "22\n",
      "23\n",
      "24\n",
      "25\n"
     ]
    }
   ],
   "source": [
    "for i in my_range(15,26):\n",
    "    print(i)"
   ]
  },
  {
   "cell_type": "markdown",
   "id": "434dad81-5ec0-4ec6-9af7-a0c310d399bd",
   "metadata": {},
   "source": [
    "## Generator Expression"
   ]
  },
  {
   "cell_type": "code",
   "execution_count": 7,
   "id": "e0a90e5b-0c1e-43ef-94df-b48778d44553",
   "metadata": {},
   "outputs": [],
   "source": [
    "#List Comprehension\n",
    "L = [i**2 for i in range(1,101)]"
   ]
  },
  {
   "cell_type": "code",
   "execution_count": 8,
   "id": "5509e9e8-a58d-4da6-9846-67a6060c2ae0",
   "metadata": {},
   "outputs": [
    {
     "name": "stdout",
     "output_type": "stream",
     "text": [
      "1\n",
      "4\n",
      "9\n",
      "16\n",
      "25\n",
      "36\n",
      "49\n",
      "64\n",
      "81\n",
      "100\n",
      "121\n",
      "144\n",
      "169\n",
      "196\n",
      "225\n",
      "256\n",
      "289\n",
      "324\n",
      "361\n",
      "400\n",
      "441\n",
      "484\n",
      "529\n",
      "576\n",
      "625\n",
      "676\n",
      "729\n",
      "784\n",
      "841\n",
      "900\n",
      "961\n",
      "1024\n",
      "1089\n",
      "1156\n",
      "1225\n",
      "1296\n",
      "1369\n",
      "1444\n",
      "1521\n",
      "1600\n",
      "1681\n",
      "1764\n",
      "1849\n",
      "1936\n",
      "2025\n",
      "2116\n",
      "2209\n",
      "2304\n",
      "2401\n",
      "2500\n",
      "2601\n",
      "2704\n",
      "2809\n",
      "2916\n",
      "3025\n",
      "3136\n",
      "3249\n",
      "3364\n",
      "3481\n",
      "3600\n",
      "3721\n",
      "3844\n",
      "3969\n",
      "4096\n",
      "4225\n",
      "4356\n",
      "4489\n",
      "4624\n",
      "4761\n",
      "4900\n",
      "5041\n",
      "5184\n",
      "5329\n",
      "5476\n",
      "5625\n",
      "5776\n",
      "5929\n",
      "6084\n",
      "6241\n",
      "6400\n",
      "6561\n",
      "6724\n",
      "6889\n",
      "7056\n",
      "7225\n",
      "7396\n",
      "7569\n",
      "7744\n",
      "7921\n",
      "8100\n",
      "8281\n",
      "8464\n",
      "8649\n",
      "8836\n",
      "9025\n",
      "9216\n",
      "9409\n",
      "9604\n",
      "9801\n",
      "10000\n"
     ]
    }
   ],
   "source": [
    "gen = (i**2 for i in range(1,101))\n",
    "\n",
    "for i in gen:\n",
    "    print(i)"
   ]
  },
  {
   "cell_type": "markdown",
   "id": "ab93e3ec-5685-4f19-a0b6-de9919e7f1b9",
   "metadata": {},
   "source": [
    "## Practical Example"
   ]
  },
  {
   "cell_type": "code",
   "execution_count": 9,
   "id": "55a8689e-4d68-4ccf-ab52-f491d5bcb708",
   "metadata": {},
   "outputs": [],
   "source": [
    "# !pip install opencv-python"
   ]
  },
  {
   "cell_type": "code",
   "execution_count": 10,
   "id": "b5a88cf6-38ae-41bc-aa68-f574095d82e7",
   "metadata": {},
   "outputs": [],
   "source": [
    "import os\n",
    "import cv2  # Now this import will work\n",
    "\n",
    "def image_data_reader(folder_path):\n",
    "    for file in os.listdir(folder_path):\n",
    "        f_array = cv2.imread(os.path.join(folder_path, file))\n",
    "        yield f_array"
   ]
  },
  {
   "cell_type": "code",
   "execution_count": 11,
   "id": "0663847d-6aaa-4e5c-8673-e0b22244ed04",
   "metadata": {},
   "outputs": [
    {
     "data": {
      "text/plain": [
       "array([[[ 38,  38,  38],\n",
       "        [ 38,  38,  38],\n",
       "        [ 38,  38,  38],\n",
       "        ...,\n",
       "        [ 37,  37,  37],\n",
       "        [ 35,  35,  35],\n",
       "        [ 31,  31,  31]],\n",
       "\n",
       "       [[ 49,  49,  49],\n",
       "        [ 48,  48,  48],\n",
       "        [ 47,  47,  47],\n",
       "        ...,\n",
       "        [ 36,  36,  36],\n",
       "        [ 35,  35,  35],\n",
       "        [ 33,  33,  33]],\n",
       "\n",
       "       [[ 53,  53,  53],\n",
       "        [ 52,  52,  52],\n",
       "        [ 50,  50,  50],\n",
       "        ...,\n",
       "        [ 34,  34,  34],\n",
       "        [ 35,  35,  35],\n",
       "        [ 36,  36,  36]],\n",
       "\n",
       "       ...,\n",
       "\n",
       "       [[191, 191, 191],\n",
       "        [191, 191, 191],\n",
       "        [191, 191, 191],\n",
       "        ...,\n",
       "        [146, 146, 146],\n",
       "        [140, 140, 140],\n",
       "        [136, 136, 136]],\n",
       "\n",
       "       [[192, 192, 192],\n",
       "        [192, 192, 192],\n",
       "        [192, 192, 192],\n",
       "        ...,\n",
       "        [146, 146, 146],\n",
       "        [140, 140, 140],\n",
       "        [135, 135, 135]],\n",
       "\n",
       "       [[192, 192, 192],\n",
       "        [192, 192, 192],\n",
       "        [192, 192, 192],\n",
       "        ...,\n",
       "        [143, 143, 143],\n",
       "        [140, 140, 140],\n",
       "        [140, 140, 140]]], shape=(1381, 2048, 3), dtype=uint8)"
      ]
     },
     "execution_count": 11,
     "metadata": {},
     "output_type": "execute_result"
    }
   ],
   "source": [
    "gen = image_data_reader(r'C:\\Users\\Siddharth Rathore\\Anaconda\\Jupyter Notebook Files\\Python Files\\sad images')\n",
    "\n",
    "next(gen)\n",
    "next(gen)\n",
    "\n",
    "next(gen)\n",
    "next(gen)"
   ]
  },
  {
   "cell_type": "markdown",
   "id": "9817134e-115d-43ef-ab30-fa8ff3acedd3",
   "metadata": {},
   "source": [
    "## Benefits of using a Generator\n",
    "#### 1. Ease of Implementation"
   ]
  },
  {
   "cell_type": "code",
   "execution_count": 12,
   "id": "06bbfab7-3338-408b-8886-5a03b4393c39",
   "metadata": {},
   "outputs": [],
   "source": [
    "class my_range:\n",
    "    \n",
    "    def __init__(self,start,end):\n",
    "        self.start = start\n",
    "        self.end = end\n",
    "        \n",
    "    def __iter__(self):\n",
    "        return my_iterator(self)"
   ]
  },
  {
   "cell_type": "code",
   "execution_count": 13,
   "id": "df120c2c-681c-4a9a-8317-701c0136c17d",
   "metadata": {},
   "outputs": [],
   "source": [
    "# iterator\n",
    "class mera_iterator:\n",
    "    \n",
    "    def __init__(self,iterable_obj):\n",
    "        self.iterable = iterable_obj\n",
    "    \n",
    "    def __iter__(self):\n",
    "        return self\n",
    "    \n",
    "    def __next__(self):\n",
    "        \n",
    "        if self.iterable.start >= self.iterable.end:\n",
    "            raise StopIteration\n",
    "        \n",
    "        current = self.iterable.start\n",
    "        self.iterable.start+=1\n",
    "        return current"
   ]
  },
  {
   "cell_type": "code",
   "execution_count": 14,
   "id": "be01b5db-00a3-4a81-8e0b-65d11ea646e2",
   "metadata": {},
   "outputs": [],
   "source": [
    "# Using generators\n",
    "\n",
    "def mera_range(start,end):\n",
    "    \n",
    "    for i in range(start,end):\n",
    "        yield i"
   ]
  },
  {
   "cell_type": "markdown",
   "id": "07175dc8-4b06-409c-baa6-d3591bbb630e",
   "metadata": {},
   "source": [
    "## 2. Memory Efficient"
   ]
  },
  {
   "cell_type": "code",
   "execution_count": 21,
   "id": "93b7e73a-b91b-4bba-9eae-ee710897fa5b",
   "metadata": {},
   "outputs": [
    {
     "name": "stdout",
     "output_type": "stream",
     "text": [
      "Size of L in memory 800984\n",
      "Size of gen in memory 192\n"
     ]
    }
   ],
   "source": [
    "\n",
    "L = [x for x in range(100000)]\n",
    "gen = (x for x in range(100000))\n",
    "\n",
    "import sys\n",
    "\n",
    "print('Size of L in memory',sys.getsizeof(L))\n",
    "print('Size of gen in memory',sys.getsizeof(gen))"
   ]
  },
  {
   "cell_type": "markdown",
   "id": "cf94eae0-8bae-40bb-8ee3-1fc7dece704f",
   "metadata": {},
   "source": [
    "## 3. Representing Infinite Streams"
   ]
  },
  {
   "cell_type": "code",
   "execution_count": 22,
   "id": "da92ed17-8b9a-42a9-9957-475351127b3f",
   "metadata": {},
   "outputs": [],
   "source": [
    "def all_even():\n",
    "    n = 0\n",
    "    while True:\n",
    "        yield n\n",
    "        n += 2"
   ]
  },
  {
   "cell_type": "code",
   "execution_count": 24,
   "id": "7c379805-933b-49d1-ae2a-4c67d9348c5f",
   "metadata": {},
   "outputs": [
    {
     "data": {
      "text/plain": [
       "4"
      ]
     },
     "execution_count": 24,
     "metadata": {},
     "output_type": "execute_result"
    }
   ],
   "source": [
    "even_num_gen = all_even()\n",
    "next(even_num_gen)\n",
    "next(even_num_gen)\n",
    "next(even_num_gen)"
   ]
  },
  {
   "cell_type": "markdown",
   "id": "3be14743-d2d0-40d3-8e4b-5c69dd153984",
   "metadata": {},
   "source": [
    "## 4. Chaining Generators"
   ]
  },
  {
   "cell_type": "code",
   "execution_count": 31,
   "id": "f43bb98d-d2d0-49b9-b046-ae6f7c22d927",
   "metadata": {},
   "outputs": [
    {
     "name": "stdout",
     "output_type": "stream",
     "text": [
      "4895\n"
     ]
    }
   ],
   "source": [
    "def fibonacci_numbers(nums):\n",
    "    x,y = 0,1\n",
    "    for _ in range(nums):\n",
    "        x,y = y, x+y\n",
    "        yield x\n",
    "def square(nums):\n",
    "    for num in nums:\n",
    "        yield num**2\n",
    "\n",
    "print(sum(square(fibonacci_numbers(10))))"
   ]
  },
  {
   "cell_type": "code",
   "execution_count": null,
   "id": "6fa6d503-5529-41e2-9d57-c8a2c77fdff8",
   "metadata": {},
   "outputs": [],
   "source": []
  }
 ],
 "metadata": {
  "kernelspec": {
   "display_name": "Python 3 (ipykernel)",
   "language": "python",
   "name": "python3"
  },
  "language_info": {
   "codemirror_mode": {
    "name": "ipython",
    "version": 3
   },
   "file_extension": ".py",
   "mimetype": "text/x-python",
   "name": "python",
   "nbconvert_exporter": "python",
   "pygments_lexer": "ipython3",
   "version": "3.12.7"
  }
 },
 "nbformat": 4,
 "nbformat_minor": 5
}
