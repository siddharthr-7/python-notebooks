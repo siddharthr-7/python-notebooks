{
 "cells": [
  {
   "cell_type": "code",
   "execution_count": 23,
   "id": "c3e00444-84c0-4c02-ba52-f5648fb12761",
   "metadata": {},
   "outputs": [
    {
     "name": "stdout",
     "output_type": "stream",
     "text": [
      "[11, 45, 1, 2, 4, 6, 1, 1]\n",
      "[11, 45, 1, 2, 4, 6, 1, 1, 900, 1000, 1200]\n"
     ]
    },
    {
     "data": {
      "text/plain": [
       "[11, 45, 1, 2, 4, 6, 1, 1]"
      ]
     },
     "execution_count": 23,
     "metadata": {},
     "output_type": "execute_result"
    }
   ],
   "source": [
    "l = [11,45,1,2,4,6,1,1]\n",
    "print(l)\n",
    "# l.append(7)\n",
    "# l.sort(reverse = True)\n",
    "# l.reverse()\n",
    "# print(l.index(1))\n",
    "# print(l.count(1))\n",
    "# m=l\n",
    "# m[0] = 0\n",
    "# print(l)\n",
    "# m = l.copy()\n",
    "# m[0] = 1\n",
    "# print(l)\n",
    "\n",
    "# l.insert(1,899)\n",
    "# l\n",
    "# m = [900,1000,1200]\n",
    "# # l.extend(m)\n",
    "# # l\n",
    "# k = l+m\n",
    "# print(k)\n",
    "# l"
   ]
  },
  {
   "cell_type": "code",
   "execution_count": null,
   "id": "aba573e7-a7dd-4f65-8543-5e976abcdad6",
   "metadata": {},
   "outputs": [],
   "source": []
  }
 ],
 "metadata": {
  "kernelspec": {
   "display_name": "anaconda-ai-2024.04-py310",
   "language": "python",
   "name": "conda-env-anaconda-ai-2024.04-py310-py"
  },
  "language_info": {
   "codemirror_mode": {
    "name": "ipython",
    "version": 3
   },
   "file_extension": ".py",
   "mimetype": "text/x-python",
   "name": "python",
   "nbconvert_exporter": "python",
   "pygments_lexer": "ipython3",
   "version": "3.10.13"
  }
 },
 "nbformat": 4,
 "nbformat_minor": 5
}
