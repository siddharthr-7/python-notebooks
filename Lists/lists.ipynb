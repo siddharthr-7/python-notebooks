{
 "cells": [
  {
   "cell_type": "code",
   "execution_count": 3,
   "id": "3a0c5e66-22d8-4b9d-87d9-21251a3b12c4",
   "metadata": {},
   "outputs": [
    {
     "name": "stdout",
     "output_type": "stream",
     "text": [
      "[1, 2, 2, 3, 5, 4, 6]\n",
      "['Red', 'Green', 'Blue']\n"
     ]
    }
   ],
   "source": [
    "#Example 1:\n",
    "lst1 = [1,2,2,3,5,4,6]\n",
    "lst2 = [\"Red\", \"Green\", \"Blue\"]\n",
    "print(lst1)\n",
    "print(lst2)"
   ]
  },
  {
   "cell_type": "code",
   "execution_count": 4,
   "id": "3ba63068-429f-43bc-90b2-841b14beae25",
   "metadata": {},
   "outputs": [
    {
     "name": "stdout",
     "output_type": "stream",
     "text": [
      "['Abhijeet', 18, 'FYBScIT', 9.8]\n"
     ]
    }
   ],
   "source": [
    "# Example 2:\n",
    "details = [\"Abhijeet\", 18, \"FYBScIT\", 9.8]\n",
    "print(details)"
   ]
  },
  {
   "cell_type": "code",
   "execution_count": 9,
   "id": "b4bf671c-a4dd-4c32-b291-fc9b206f92ad",
   "metadata": {},
   "outputs": [
    {
     "data": {
      "text/plain": [
       "'Yellow'"
      ]
     },
     "execution_count": 9,
     "metadata": {},
     "output_type": "execute_result"
    }
   ],
   "source": [
    "# List Index\n",
    "colors = [\"Red\", \"Green\", \"Blue\", \"Yellow\", \"Green\"]\n",
    "#          [0]      [1]     [2]      [3]      [4]\n",
    "colors[3]"
   ]
  },
  {
   "cell_type": "code",
   "execution_count": 10,
   "id": "e210aa28-c3c1-46ea-af12-9727ead08db7",
   "metadata": {},
   "outputs": [
    {
     "name": "stdout",
     "output_type": "stream",
     "text": [
      "Blue\n",
      "Green\n",
      "Red\n"
     ]
    }
   ],
   "source": [
    "# Accessing list items\n",
    "# Positive Indexing:\n",
    "\n",
    "colors = [\"Red\", \"Green\", \"Blue\", \"Yellow\", \"Green\"]\n",
    "#          [0]      [1]     [2]      [3]      [4]\n",
    "print(colors[2])\n",
    "print(colors[4])\n",
    "print(colors[0])"
   ]
  },
  {
   "cell_type": "code",
   "execution_count": 11,
   "id": "40416f69-e973-4e49-87fa-1742279f2a7a",
   "metadata": {},
   "outputs": [
    {
     "name": "stdout",
     "output_type": "stream",
     "text": [
      "Green\n",
      "Blue\n",
      "Red\n"
     ]
    }
   ],
   "source": [
    "# Negative Indexing:\n",
    "\n",
    "colors = [\"Red\", \"Green\", \"Blue\", \"Yellow\", \"Green\"]\n",
    "#          [-5]    [-4]    [-3]     [-2]      [-1]\n",
    "print(colors[-1])\n",
    "print(colors[-3])\n",
    "print(colors[-5])"
   ]
  },
  {
   "cell_type": "code",
   "execution_count": 13,
   "id": "b42a238d-96c3-4a36-8041-30b67f88f738",
   "metadata": {},
   "outputs": [
    {
     "name": "stdout",
     "output_type": "stream",
     "text": [
      "Yellow is present.\n"
     ]
    }
   ],
   "source": [
    "# Check whether an item in present in the list?\n",
    "\n",
    "colors = [\"Red\", \"Green\", \"Blue\", \"Yellow\", \"Green\"]\n",
    "if \"Yellow\" in colors:\n",
    "    print(\"Yellow is present.\")\n",
    "else:\n",
    "    print(\"Yellow is absent.\")"
   ]
  },
  {
   "cell_type": "code",
   "execution_count": 14,
   "id": "8d38421d-667d-4a1a-a7c4-d92a975c772b",
   "metadata": {},
   "outputs": [
    {
     "name": "stdout",
     "output_type": "stream",
     "text": [
      "['mouse', 'pig', 'horse', 'donkey']\n",
      "['bat', 'mouse', 'pig', 'horse', 'donkey']\n"
     ]
    }
   ],
   "source": [
    "# Range of Index:\n",
    "# Syntax\n",
    "# listName[start : end : jumpIndex] #jumpindex is optional\n",
    "\n",
    "# Example : printing elements within a particular range:\n",
    "animals = [\"cat\", \"dog\", \"bat\", \"mouse\", \"pig\", \"horse\", \"donkey\", \"goat\", \"cow\"]\n",
    "print(animals[3:7])\t#using positive indexes\n",
    "print(animals[-7:-2])\t#using negative indexes'"
   ]
  },
  {
   "cell_type": "code",
   "execution_count": 15,
   "id": "06d0a2e9-0e1d-415f-ae0f-72114ba9182d",
   "metadata": {},
   "outputs": [
    {
     "name": "stdout",
     "output_type": "stream",
     "text": [
      "['pig', 'horse', 'donkey', 'goat', 'cow']\n",
      "['horse', 'donkey', 'goat', 'cow']\n"
     ]
    }
   ],
   "source": [
    "# Example: printing all element from a given index till the end\n",
    "\n",
    "animals = [\"cat\", \"dog\", \"bat\", \"mouse\", \"pig\", \"horse\", \"donkey\", \"goat\", \"cow\"]\n",
    "print(animals[4:])\t#using positive indexes\n",
    "print(animals[-4:])\t#using negative indexes"
   ]
  },
  {
   "cell_type": "code",
   "execution_count": 16,
   "id": "edae9cbb-d6be-4622-9eb8-45e6a92c5d0f",
   "metadata": {},
   "outputs": [
    {
     "name": "stdout",
     "output_type": "stream",
     "text": [
      "['cat', 'dog', 'bat', 'mouse', 'pig', 'horse']\n",
      "['cat', 'dog', 'bat', 'mouse', 'pig', 'horse']\n"
     ]
    }
   ],
   "source": [
    "# Example: printing all elements from start to a given index\n",
    "\n",
    "animals = [\"cat\", \"dog\", \"bat\", \"mouse\", \"pig\", \"horse\", \"donkey\", \"goat\", \"cow\"]\n",
    "print(animals[:6])\t#using positive indexes\n",
    "print(animals[:-3])\t#using negative indexes"
   ]
  },
  {
   "cell_type": "code",
   "execution_count": 17,
   "id": "a53a558b-97a4-4200-a91a-c0070e2c2526",
   "metadata": {},
   "outputs": [
    {
     "name": "stdout",
     "output_type": "stream",
     "text": [
      "['cat', 'bat', 'pig', 'donkey', 'cow']\n",
      "['dog', 'mouse', 'horse', 'goat']\n"
     ]
    }
   ],
   "source": [
    "# Example: Printing alternate values\n",
    "animals = [\"cat\", \"dog\", \"bat\", \"mouse\", \"pig\", \"horse\", \"donkey\", \"goat\", \"cow\"]\n",
    "print(animals[::2])\t\t#using positive indexes\n",
    "print(animals[-8:-1:2])\t#using negative indexes"
   ]
  },
  {
   "cell_type": "code",
   "execution_count": 20,
   "id": "2cce5c69-ed83-43f9-9b43-c1879301f5e6",
   "metadata": {},
   "outputs": [
    {
     "name": "stdout",
     "output_type": "stream",
     "text": [
      "['dog', 'pig', 'goat']\n"
     ]
    }
   ],
   "source": [
    "# Example: printing every 3rd consecutive value withing a given range\n",
    "animals = [\"cat\", \"dog\", \"bat\", \"mouse\", \"pig\", \"horse\", \"donkey\", \"goat\", \"cow\"]\n",
    "print(animals[1:8:3])"
   ]
  },
  {
   "cell_type": "code",
   "execution_count": null,
   "id": "f4f62058-683b-491e-aea5-76fd20e59745",
   "metadata": {},
   "outputs": [],
   "source": []
  }
 ],
 "metadata": {
  "kernelspec": {
   "display_name": "Python 3 (ipykernel)",
   "language": "python",
   "name": "python3"
  },
  "language_info": {
   "codemirror_mode": {
    "name": "ipython",
    "version": 3
   },
   "file_extension": ".py",
   "mimetype": "text/x-python",
   "name": "python",
   "nbconvert_exporter": "python",
   "pygments_lexer": "ipython3",
   "version": "3.12.7"
  }
 },
 "nbformat": 4,
 "nbformat_minor": 5
}
