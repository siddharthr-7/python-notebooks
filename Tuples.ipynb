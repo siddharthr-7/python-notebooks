{
 "cells": [
  {
   "cell_type": "markdown",
   "id": "2a08f0f9-170e-40ff-8482-edf4775f4fe0",
   "metadata": {},
   "source": [
    "## Python Tuples"
   ]
  },
  {
   "cell_type": "markdown",
   "id": "11762aa0-e38d-41fc-8bdf-69bd1dcce758",
   "metadata": {},
   "source": [
    "### Item Assignment"
   ]
  },
  {
   "cell_type": "code",
   "execution_count": 3,
   "id": "1f22f30e-6cdd-4abc-b265-9d08b47b2267",
   "metadata": {},
   "outputs": [],
   "source": [
    "tup = (1,2,76,342,32,\"green\",True)\n",
    "# tup[0] = 90  TypeError: 'tuple' object does not support item assignment"
   ]
  },
  {
   "cell_type": "code",
   "execution_count": 4,
   "id": "5e9c1e4f-8118-45b9-a27e-128d57686a6f",
   "metadata": {},
   "outputs": [
    {
     "name": "stdout",
     "output_type": "stream",
     "text": [
      "<class 'tuple'> (1, 2, 76, 342, 32, 'green', True)\n"
     ]
    }
   ],
   "source": [
    "print(type(tup), tup) #type "
   ]
  },
  {
   "cell_type": "code",
   "execution_count": 5,
   "id": "04565d50-d111-4beb-887f-7b47465ec9dd",
   "metadata": {},
   "outputs": [
    {
     "name": "stdout",
     "output_type": "stream",
     "text": [
      "7\n"
     ]
    }
   ],
   "source": [
    "print(len(tup)) #Length of tuple"
   ]
  },
  {
   "cell_type": "markdown",
   "id": "58c19fdf-b0b3-4e1c-8e68-4961ddae101c",
   "metadata": {},
   "source": [
    "### Positive Inexing"
   ]
  },
  {
   "cell_type": "code",
   "execution_count": 7,
   "id": "71a69fed-f5eb-4a9d-a45d-c7d8335f77a6",
   "metadata": {},
   "outputs": [
    {
     "name": "stdout",
     "output_type": "stream",
     "text": [
      "1\n",
      "2\n",
      "76\n"
     ]
    }
   ],
   "source": [
    " print(tup[0])\n",
    " print(tup[1])\n",
    " print(tup[2])\n",
    "# print(tup[34]) IndexError: tuple index out of range"
   ]
  },
  {
   "cell_type": "markdown",
   "id": "4ebeb190-fac4-4d4f-976c-ae0fc4ef2383",
   "metadata": {},
   "source": [
    "### Negative Idexing"
   ]
  },
  {
   "cell_type": "code",
   "execution_count": 8,
   "id": "b72494cc-d9a6-4441-a4f2-8d4356545b98",
   "metadata": {},
   "outputs": [
    {
     "name": "stdout",
     "output_type": "stream",
     "text": [
      "True\n"
     ]
    }
   ],
   "source": [
    "print(tup[-1])"
   ]
  },
  {
   "cell_type": "markdown",
   "id": "a0107221-7ddd-4b4f-a951-a705c58da88a",
   "metadata": {},
   "source": [
    "### Item present in tuple or not "
   ]
  },
  {
   "cell_type": "code",
   "execution_count": 12,
   "id": "8c7aade2-9563-46d0-9594-5d85e228244c",
   "metadata": {},
   "outputs": [
    {
     "name": "stdout",
     "output_type": "stream",
     "text": [
      "Yes 342 is present in this tuple\n"
     ]
    }
   ],
   "source": [
    "if 342 in tup:\n",
    "    print(\"Yes 342 is present in this tuple\")\n",
    "else:\n",
    "    print(\"No 342 is absent in the tuple\")\n",
    "    "
   ]
  },
  {
   "cell_type": "markdown",
   "id": "1b1d7feb-100a-4c22-9237-917c770aafbf",
   "metadata": {},
   "source": [
    "### Slicing in tuple"
   ]
  },
  {
   "cell_type": "code",
   "execution_count": 13,
   "id": "1b98bcec-0012-4994-8f7d-8be479fffa59",
   "metadata": {},
   "outputs": [
    {
     "data": {
      "text/plain": [
       "(2, 76, 342)"
      ]
     },
     "execution_count": 13,
     "metadata": {},
     "output_type": "execute_result"
    }
   ],
   "source": [
    "tup2 = tup[1:4]\n",
    "tup2"
   ]
  },
  {
   "cell_type": "markdown",
   "id": "3cd83e16-142d-4823-91df-651274162653",
   "metadata": {},
   "source": [
    "###  Print alternate values"
   ]
  },
  {
   "cell_type": "code",
   "execution_count": 14,
   "id": "4e9ae656-90e9-4951-ae24-42802e666b7f",
   "metadata": {},
   "outputs": [
    {
     "name": "stdout",
     "output_type": "stream",
     "text": [
      "('cat', 'bat', 'pig', 'donkey', 'cow')\n",
      "('dog', 'mouse', 'horse', 'goat')\n"
     ]
    }
   ],
   "source": [
    "animals = (\"cat\", \"dog\", \"bat\", \"mouse\", \"pig\", \"horse\", \"donkey\", \"goat\", \"cow\")\n",
    "print(animals[::2])     #using positive indexes\n",
    "print(animals[-8:-1:2]) #using negative indexes"
   ]
  },
  {
   "cell_type": "markdown",
   "id": "dd3aba9a-bdbe-4df5-821d-8e6a0c9fd8ac",
   "metadata": {},
   "source": [
    "## Operations on Tuple"
   ]
  },
  {
   "cell_type": "markdown",
   "id": "202253bd-d12d-46ce-b509-78ae443db454",
   "metadata": {},
   "source": [
    "## Manipulating Tuples"
   ]
  },
  {
   "cell_type": "code",
   "execution_count": 16,
   "id": "a84b7a3f-552c-44e4-a943-10c0cbdb6012",
   "metadata": {},
   "outputs": [
    {
     "name": "stdout",
     "output_type": "stream",
     "text": [
      "('Spain', 'Italy', 'Finland', 'Germany', 'Russia')\n"
     ]
    }
   ],
   "source": [
    "#Tuples are immutable, hence if you want to add, remove or change tuple items, then first you must convert the tuple to a list. \n",
    "#Then perform operation on that list and convert it back to tuple.\n",
    "\n",
    "countries = (\"Spain\", \"Italy\", \"India\", \"England\", \"Germany\")\n",
    "temp = list(countries)\n",
    "temp.append(\"Russia\")       #add item \n",
    "temp.pop(3)                 #remove item\n",
    "temp[2] = \"Finland\"         #change item\n",
    "countries = tuple(temp)\n",
    "print(countries)"
   ]
  },
  {
   "cell_type": "markdown",
   "id": "d66fa937-68ad-4d4f-9126-84457fb1ec65",
   "metadata": {},
   "source": [
    "## Concatenate"
   ]
  },
  {
   "cell_type": "code",
   "execution_count": 17,
   "id": "7b92d870-22ee-45da-961e-2d2fb2e1938c",
   "metadata": {},
   "outputs": [
    {
     "name": "stdout",
     "output_type": "stream",
     "text": [
      "('Pakistan', 'Afghanistan', 'Bangladesh', 'ShriLanka', 'Vietnam', 'India', 'China')\n"
     ]
    }
   ],
   "source": [
    "# However, we can directly concatenate two tuples without converting them to list.\n",
    "\n",
    "countries = (\"Pakistan\", \"Afghanistan\", \"Bangladesh\", \"ShriLanka\")\n",
    "countries2 = (\"Vietnam\", \"India\", \"China\")\n",
    "southEastAsia = countries + countries2\n",
    "print(southEastAsia)"
   ]
  },
  {
   "cell_type": "markdown",
   "id": "98b6a9d0-97cb-484c-ac24-85884c4b0c7f",
   "metadata": {},
   "source": [
    "## Tuple Methods"
   ]
  },
  {
   "cell_type": "markdown",
   "id": "2fe3201c-d0ee-47b2-94e9-2180bdb82da5",
   "metadata": {},
   "source": [
    "### count() Method"
   ]
  },
  {
   "cell_type": "code",
   "execution_count": 19,
   "id": "1d630558-8c64-4b73-8c98-a84451126f94",
   "metadata": {},
   "outputs": [],
   "source": [
    "# The count() method of Tuple returns the number of times the given element appears in the tuple.\n",
    "#Syntax\n",
    "#tuple.count(element)"
   ]
  },
  {
   "cell_type": "code",
   "execution_count": 20,
   "id": "1b8996c5-e08f-4381-ae79-f959f9385eaa",
   "metadata": {},
   "outputs": [
    {
     "name": "stdout",
     "output_type": "stream",
     "text": [
      "Count of 3  in Tuple1 is: 3\n"
     ]
    }
   ],
   "source": [
    "#Example: \n",
    "Tuple1 = (0,1,2,3,2,3,1,3,20)\n",
    "res = Tuple1.count(3)\n",
    "print('Count of 3  in Tuple1 is:',res)"
   ]
  },
  {
   "cell_type": "markdown",
   "id": "dcaccc11-a7a8-4ee6-ac78-6f43b0c00f45",
   "metadata": {},
   "source": [
    "### index() method"
   ]
  },
  {
   "cell_type": "code",
   "execution_count": 23,
   "id": "1dab3f42-43bd-4975-aeab-4bf97b777593",
   "metadata": {},
   "outputs": [
    {
     "name": "stdout",
     "output_type": "stream",
     "text": [
      "occurence of 3 is 3\n"
     ]
    }
   ],
   "source": [
    "Tuple = (0, 1, 2, 3, 2, 3, 1, 3, 2)\n",
    "res = Tuple.index(3)\n",
    "print('occurence of 3 is', res)"
   ]
  },
  {
   "cell_type": "code",
   "execution_count": null,
   "id": "d64cb0b8-148c-4197-b7d1-1109daf39c45",
   "metadata": {},
   "outputs": [],
   "source": []
  }
 ],
 "metadata": {
  "kernelspec": {
   "display_name": "anaconda-ai-2024.04-py310",
   "language": "python",
   "name": "conda-env-anaconda-ai-2024.04-py310-py"
  },
  "language_info": {
   "codemirror_mode": {
    "name": "ipython",
    "version": 3
   },
   "file_extension": ".py",
   "mimetype": "text/x-python",
   "name": "python",
   "nbconvert_exporter": "python",
   "pygments_lexer": "ipython3",
   "version": "3.10.13"
  }
 },
 "nbformat": 4,
 "nbformat_minor": 5
}
