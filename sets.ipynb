{
 "cells": [
  {
   "cell_type": "markdown",
   "id": "00e1feec-2ed2-468a-97e9-8612187c845b",
   "metadata": {},
   "source": [
    "## Set in Python\n",
    "\n",
    "#### Set is the collection of the unordered items.\n",
    "\n",
    "#### Each element in the set must be unique & immutable."
   ]
  },
  {
   "cell_type": "code",
   "execution_count": 5,
   "id": "a69b1cd5-ff39-475c-8923-0afe234faaf1",
   "metadata": {},
   "outputs": [
    {
     "name": "stdout",
     "output_type": "stream",
     "text": [
      "{1, 2}\n",
      "set()\n"
     ]
    }
   ],
   "source": [
    "nums = { 1, 2, 3, 4 }\n",
    "\n",
    "set2 = { 1, 2, 2, 2 }\n",
    "print(set2)\n",
    "#repeated elements store once, so it resolved to {1, 2}"
   ]
  },
  {
   "cell_type": "markdown",
   "id": "40f1aa34-fd26-4ead-8ef5-a0b9908776ac",
   "metadata": {},
   "source": [
    "#### how to create empty set"
   ]
  },
  {
   "cell_type": "code",
   "execution_count": null,
   "id": "9a7b5a3d-e502-4553-bc16-e30a7a89add3",
   "metadata": {},
   "outputs": [],
   "source": [
    "null_set = set( ) #empty set syntax\n",
    "print(null_set)"
   ]
  },
  {
   "cell_type": "markdown",
   "id": "c35f9387-6e68-4918-b5a0-d46e77486131",
   "metadata": {},
   "source": [
    "### Length of set"
   ]
  },
  {
   "cell_type": "code",
   "execution_count": 1,
   "id": "0a6f32b9-0cce-4852-8d94-e540353e5813",
   "metadata": {},
   "outputs": [
    {
     "name": "stdout",
     "output_type": "stream",
     "text": [
      "{1, 'Hello', 2, 'Python', 'World'}\n",
      "5\n"
     ]
    }
   ],
   "source": [
    "collection ={1,2,2,2,\"Hello\",\"World\",\"Python\"}\n",
    "print(collection)\n",
    "print(len(collection))"
   ]
  },
  {
   "cell_type": "markdown",
   "id": "1824ad47-782d-47a2-b4cd-9f745c91a4ea",
   "metadata": {},
   "source": [
    "## Set methods"
   ]
  },
  {
   "cell_type": "markdown",
   "id": "2da7a917-c2f4-4cfd-8dc5-8dd940765181",
   "metadata": {},
   "source": [
    "### .add() method"
   ]
  },
  {
   "cell_type": "code",
   "execution_count": 15,
   "id": "d3e686b7-abd2-4be0-9293-2ec8ad76cda8",
   "metadata": {},
   "outputs": [
    {
     "name": "stdout",
     "output_type": "stream",
     "text": [
      "{1, 2, (1, 2, 3), 'Siddharth'}\n",
      "4\n"
     ]
    }
   ],
   "source": [
    "collection = set()\n",
    "collection.add(1)\n",
    "collection.add(2)\n",
    "collection.add(\"Siddharth\")\n",
    "collection.add((1,2,3))\n",
    "\n",
    "# collection.add([1,2,3]) #Error - Unhashable list\n",
    "print(collection)\n",
    "print(len(collection))"
   ]
  },
  {
   "cell_type": "markdown",
   "id": "43448c75-bf8b-425c-b9a8-61d6c63ebf8d",
   "metadata": {},
   "source": [
    "## .remove() method"
   ]
  },
  {
   "cell_type": "code",
   "execution_count": 16,
   "id": "d4374fa5-bac7-43b4-9e98-b7b81441d157",
   "metadata": {},
   "outputs": [
    {
     "data": {
      "text/plain": [
       "{(1, 2, 3), 2, 'Siddharth'}"
      ]
     },
     "execution_count": 16,
     "metadata": {},
     "output_type": "execute_result"
    }
   ],
   "source": [
    "collection.remove(1) #removes specific value\n",
    "collection.remove(7) # key error"
   ]
  },
  {
   "cell_type": "markdown",
   "id": "bbb710c5-3ba3-423f-bb52-633b8461c841",
   "metadata": {},
   "source": [
    "### .clear() method"
   ]
  },
  {
   "cell_type": "code",
   "execution_count": 17,
   "id": "03e47114-52a1-407a-9245-8ecb5fca45ba",
   "metadata": {},
   "outputs": [
    {
     "name": "stdout",
     "output_type": "stream",
     "text": [
      "0\n"
     ]
    }
   ],
   "source": [
    "collection.clear() # empty the set \n",
    "print(len(collection))"
   ]
  },
  {
   "cell_type": "markdown",
   "id": "9903f99a-3956-4454-93da-173a1d5597db",
   "metadata": {},
   "source": [
    "### .pop() method"
   ]
  },
  {
   "cell_type": "code",
   "execution_count": 21,
   "id": "40694dd1-6f6b-4540-800c-b53fa9c37646",
   "metadata": {},
   "outputs": [
    {
     "name": "stdout",
     "output_type": "stream",
     "text": [
      "hello\n",
      "world\n"
     ]
    }
   ],
   "source": [
    "collection = {\"hello\", \"apnacollege\", \"world\", \"coding\", \"python\"}\n",
    "\n",
    "print(collection.pop()) # removes an element chosen arbitrarily by the Python interpreter; there's no guarantee which specific element will be removed.\n",
    "print(collection.pop())"
   ]
  },
  {
   "cell_type": "markdown",
   "id": "97fdf3c9-bc39-4b4b-831e-383d4aeade1d",
   "metadata": {},
   "source": [
    "### .union() method "
   ]
  },
  {
   "cell_type": "code",
   "execution_count": 25,
   "id": "4500999d-5421-480c-bd36-66963a349bf3",
   "metadata": {},
   "outputs": [
    {
     "name": "stdout",
     "output_type": "stream",
     "text": [
      "{1, 2, 3, 4}\n"
     ]
    }
   ],
   "source": [
    "# union combines both set values & returns new\n",
    "\n",
    "\n",
    "set1 = {1,2,3}\n",
    "set2 = {2,3,4}\n",
    "print(set1.union(set2))"
   ]
  },
  {
   "cell_type": "markdown",
   "id": "cedc29cf-a5be-4f22-a1aa-e321194f1638",
   "metadata": {},
   "source": [
    "### .intersection() method"
   ]
  },
  {
   "cell_type": "code",
   "execution_count": 27,
   "id": "a3ee4d1a-02e3-4dcd-a7fb-e9a97ad84427",
   "metadata": {},
   "outputs": [
    {
     "name": "stdout",
     "output_type": "stream",
     "text": [
      "{2, 3}\n"
     ]
    }
   ],
   "source": [
    "#  intersection combines common values & returns new\n",
    "set1 = {1,2,3}\n",
    "set2 = {2,3,4}\n",
    "print(set1.intersection(set2))"
   ]
  },
  {
   "cell_type": "code",
   "execution_count": 29,
   "id": "89138e9a-3fd1-4ceb-a9bd-fdd7ddb455ed",
   "metadata": {},
   "outputs": [
    {
     "name": "stdout",
     "output_type": "stream",
     "text": [
      "{'cat': 'a small animal', 'table': ['a piece of furniture', 'list of facts & figures']}\n"
     ]
    }
   ],
   "source": [
    "#Practice Questions \n",
    "\n",
    "#Store following word meanings in a python dictionary :\n",
    "\n",
    "\n",
    "\n",
    "#\"table\" :  \"a piece of furniture\", \"list of facts & figures\"\n",
    "#\"cat\" : \"a small animal\"\n",
    "\n",
    "dict = {\n",
    "    \"cat\" : \"a small animal\",\n",
    "    \"table\" :  [\"a piece of furniture\", \"list of facts & figures\"]\n",
    "}\n",
    "\n",
    "print(dict)\n",
    "\n"
   ]
  },
  {
   "cell_type": "code",
   "execution_count": 38,
   "id": "f5992562-1d38-4cd7-a368-baa61eefc43d",
   "metadata": {},
   "outputs": [
    {
     "name": "stdout",
     "output_type": "stream",
     "text": [
      "5\n"
     ]
    }
   ],
   "source": [
    "#You are given a list of subjects for students. Assume one classroom is required for 1\n",
    "#subject. How many classrooms are needed by all students.\n",
    "\n",
    "# 'python','java','C++','python','java script','java','python','java','C++','C' \n",
    "\n",
    "classroom_req = {'python','java','C++','python','javascript','java','python','java','C++','C' }\n",
    "\n",
    "print(len(a))"
   ]
  },
  {
   "cell_type": "code",
   "execution_count": 41,
   "id": "99ccb591-8a2a-45c3-815b-20cdfbc3dc38",
   "metadata": {},
   "outputs": [
    {
     "name": "stdin",
     "output_type": "stream",
     "text": [
      "Enter Physics Marks :  84\n",
      "Enter Chemistry Marks :  47\n",
      "Enter Maths Marks :  80\n"
     ]
    },
    {
     "name": "stdout",
     "output_type": "stream",
     "text": [
      "{'Physics': 84, 'Chemistry': 84, 'Maths': 47}\n"
     ]
    }
   ],
   "source": [
    "# WAP to enter marks of 3 subjects from the user and store them in a dictionary. Start with\n",
    "# an empty dictionary & add one by one. Use subject name as key & marks as value.\n",
    "\n",
    "\n",
    "marks = {}\n",
    "\n",
    "x = int(input(\"Enter Physics Marks : \"))\n",
    "marks.update({\"Physics\" : x})\n",
    "\n",
    "y = int(input(\"Enter Chemistry Marks : \"))\n",
    "marks.update({\"Chemistry\" : x})\n",
    "        \n",
    "z = int(input(\"Enter Maths Marks : \"))\n",
    "marks.update({\"Maths\" : y})\n",
    "\n",
    "print(marks)\n"
   ]
  },
  {
   "cell_type": "code",
   "execution_count": 48,
   "id": "82944a94-2127-47de-87c5-971b633e3bc4",
   "metadata": {},
   "outputs": [
    {
     "name": "stdout",
     "output_type": "stream",
     "text": [
      "{('int', 9), ('float', 9.0)}\n"
     ]
    }
   ],
   "source": [
    "# Figure out a way to store 9 & 9.0 as separate values in the set.\n",
    "\n",
    "values = {\n",
    "    (\"float\",9.0),\n",
    "    (\"int\", 9)\n",
    "}\n",
    "print(values)"
   ]
  },
  {
   "cell_type": "code",
   "execution_count": null,
   "id": "cda4c414-2743-4b78-bc76-ca2344cef3b9",
   "metadata": {},
   "outputs": [],
   "source": []
  }
 ],
 "metadata": {
  "kernelspec": {
   "display_name": "anaconda-panel-2023.05-py310",
   "language": "python",
   "name": "conda-env-anaconda-panel-2023.05-py310-py"
  },
  "language_info": {
   "codemirror_mode": {
    "name": "ipython",
    "version": 3
   },
   "file_extension": ".py",
   "mimetype": "text/x-python",
   "name": "python",
   "nbconvert_exporter": "python",
   "pygments_lexer": "ipython3",
   "version": "3.11.5"
  }
 },
 "nbformat": 4,
 "nbformat_minor": 5
}
